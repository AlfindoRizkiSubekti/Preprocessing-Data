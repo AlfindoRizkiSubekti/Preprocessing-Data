{
  "nbformat": 4,
  "nbformat_minor": 0,
  "metadata": {
    "colab": {
      "name": "preprocessing.ipynb",
      "provenance": [],
      "collapsed_sections": []
    },
    "kernelspec": {
      "name": "python3",
      "display_name": "Python 3"
    },
    "language_info": {
      "name": "python"
    }
  },
  "cells": [
    {
      "cell_type": "code",
      "metadata": {
        "id": "fIdpdCTfZ5Fp"
      },
      "source": [
        "import numpy as np\n",
        "import matplotlib.pyplot as plt\n",
        "import pandas as pd\n"
      ],
      "execution_count": 141,
      "outputs": []
    },
    {
      "cell_type": "code",
      "metadata": {
        "id": "JSS_RHq9bgUF"
      },
      "source": [
        "dataset=pd.read_csv('Data3.csv')\n",
        "x=dataset.iloc[:, :-1].values\n",
        "y=dataset.iloc[:, -1].values\n"
      ],
      "execution_count": 142,
      "outputs": []
    },
    {
      "cell_type": "code",
      "metadata": {
        "colab": {
          "base_uri": "https://localhost:8080/"
        },
        "id": "Rti3hXd4dMp7",
        "outputId": "372627e5-cda0-4743-daf7-720a6b72ece9"
      },
      "source": [
        "print(x)"
      ],
      "execution_count": 143,
      "outputs": [
        {
          "output_type": "stream",
          "text": [
            "[['France' 44.0 72000.0 nan]\n",
            " ['Spain' 27.0 48000.0 32.0]\n",
            " ['Germany' 30.0 54000.0 23.0]\n",
            " ['Spain' 38.0 61000.0 33.0]\n",
            " ['Germany' 40.0 nan 43.0]\n",
            " ['France' 35.0 58000.0 32.0]\n",
            " ['Spain' nan 52000.0 35.0]\n",
            " ['France' 48.0 nan 38.0]\n",
            " ['Germany' 50.0 83000.0 32.0]\n",
            " ['France' 37.0 67000.0 32.0]]\n"
          ],
          "name": "stdout"
        }
      ]
    },
    {
      "cell_type": "code",
      "metadata": {
        "colab": {
          "base_uri": "https://localhost:8080/"
        },
        "id": "jqg3aXMgiAfJ",
        "outputId": "b7fd86cc-aa75-44e6-adf7-0e8d18ecdfaf"
      },
      "source": [
        "print(y)"
      ],
      "execution_count": 144,
      "outputs": [
        {
          "output_type": "stream",
          "text": [
            "['No' 'Yes' 'No' 'No' 'Yes' 'Yes' 'No' 'Yes' 'No' 'Yes']\n"
          ],
          "name": "stdout"
        }
      ]
    },
    {
      "cell_type": "code",
      "metadata": {
        "id": "uzkHQJsoiJVc"
      },
      "source": [
        "from sklearn.impute import SimpleImputer\n",
        "imputer = SimpleImputer(missing_values=np.nan, strategy='mean')\n",
        "imputer.fit(x[:, 1:4])\n",
        "x[:, 1:4]=imputer.transform(x[:, 1:4])"
      ],
      "execution_count": 145,
      "outputs": []
    },
    {
      "cell_type": "code",
      "metadata": {
        "colab": {
          "base_uri": "https://localhost:8080/"
        },
        "id": "1RVfUg0UjK2j",
        "outputId": "41b14bd7-edaa-4c81-c4ab-f41495ccad11"
      },
      "source": [
        "print(x)"
      ],
      "execution_count": 146,
      "outputs": [
        {
          "output_type": "stream",
          "text": [
            "[['France' 44.0 72000.0 33.333333333333336]\n",
            " ['Spain' 27.0 48000.0 32.0]\n",
            " ['Germany' 30.0 54000.0 23.0]\n",
            " ['Spain' 38.0 61000.0 33.0]\n",
            " ['Germany' 40.0 61875.0 43.0]\n",
            " ['France' 35.0 58000.0 32.0]\n",
            " ['Spain' 38.77777777777778 52000.0 35.0]\n",
            " ['France' 48.0 61875.0 38.0]\n",
            " ['Germany' 50.0 83000.0 32.0]\n",
            " ['France' 37.0 67000.0 32.0]]\n"
          ],
          "name": "stdout"
        }
      ]
    },
    {
      "cell_type": "code",
      "metadata": {
        "id": "kZkFrfuFj6Z8"
      },
      "source": [
        "from sklearn.compose import ColumnTransformer\n",
        "from sklearn.preprocessing import OneHotEncoder\n",
        "ct = ColumnTransformer(transformers=[('encoder',OneHotEncoder(),[0])], remainder='passthrough')\n",
        "x = np.array(ct.fit_transform(x))"
      ],
      "execution_count": 147,
      "outputs": []
    },
    {
      "cell_type": "code",
      "metadata": {
        "colab": {
          "base_uri": "https://localhost:8080/"
        },
        "id": "nVEUTzGOm3Q3",
        "outputId": "dc79d8ad-f09b-4729-bf0f-626a0159b2f7"
      },
      "source": [
        "print(x)"
      ],
      "execution_count": 148,
      "outputs": [
        {
          "output_type": "stream",
          "text": [
            "[[1.0 0.0 0.0 44.0 72000.0 33.333333333333336]\n",
            " [0.0 0.0 1.0 27.0 48000.0 32.0]\n",
            " [0.0 1.0 0.0 30.0 54000.0 23.0]\n",
            " [0.0 0.0 1.0 38.0 61000.0 33.0]\n",
            " [0.0 1.0 0.0 40.0 61875.0 43.0]\n",
            " [1.0 0.0 0.0 35.0 58000.0 32.0]\n",
            " [0.0 0.0 1.0 38.77777777777778 52000.0 35.0]\n",
            " [1.0 0.0 0.0 48.0 61875.0 38.0]\n",
            " [0.0 1.0 0.0 50.0 83000.0 32.0]\n",
            " [1.0 0.0 0.0 37.0 67000.0 32.0]]\n"
          ],
          "name": "stdout"
        }
      ]
    },
    {
      "cell_type": "code",
      "metadata": {
        "id": "Ecj9gY5WplbD"
      },
      "source": [
        "from sklearn.preprocessing import LabelEncoder\n",
        "le= LabelEncoder()\n",
        "y=le.fit_transform(y)"
      ],
      "execution_count": 149,
      "outputs": []
    },
    {
      "cell_type": "code",
      "metadata": {
        "colab": {
          "base_uri": "https://localhost:8080/"
        },
        "id": "PkjsJOhPp1zh",
        "outputId": "1ccc9391-8810-4056-d3cf-02d21c8f56a7"
      },
      "source": [
        "print(y)"
      ],
      "execution_count": 150,
      "outputs": [
        {
          "output_type": "stream",
          "text": [
            "[0 1 0 0 1 1 0 1 0 1]\n"
          ],
          "name": "stdout"
        }
      ]
    },
    {
      "cell_type": "code",
      "metadata": {
        "id": "BsIe5LNhqb-D"
      },
      "source": [
        "from sklearn.model_selection import train_test_split\n",
        "x_train, x_test, y_train, y_test = train_test_split(x, y, test_size=0.2, random_state=1)"
      ],
      "execution_count": 151,
      "outputs": []
    },
    {
      "cell_type": "code",
      "metadata": {
        "colab": {
          "base_uri": "https://localhost:8080/"
        },
        "id": "Y0jbesQ_q7Fy",
        "outputId": "999ffa0a-7b94-4c17-cc03-9c0b8c80a8a3"
      },
      "source": [
        "print(x_train)"
      ],
      "execution_count": 152,
      "outputs": [
        {
          "output_type": "stream",
          "text": [
            "[[0.0 0.0 1.0 38.77777777777778 52000.0 35.0]\n",
            " [0.0 1.0 0.0 40.0 61875.0 43.0]\n",
            " [1.0 0.0 0.0 44.0 72000.0 33.333333333333336]\n",
            " [0.0 0.0 1.0 38.0 61000.0 33.0]\n",
            " [0.0 0.0 1.0 27.0 48000.0 32.0]\n",
            " [1.0 0.0 0.0 48.0 61875.0 38.0]\n",
            " [0.0 1.0 0.0 50.0 83000.0 32.0]\n",
            " [1.0 0.0 0.0 35.0 58000.0 32.0]]\n"
          ],
          "name": "stdout"
        }
      ]
    },
    {
      "cell_type": "code",
      "metadata": {
        "colab": {
          "base_uri": "https://localhost:8080/"
        },
        "id": "-Kk8VQvZtBO6",
        "outputId": "315d1489-861f-460a-d53d-496d15d19d9c"
      },
      "source": [
        "print(x_test)"
      ],
      "execution_count": 153,
      "outputs": [
        {
          "output_type": "stream",
          "text": [
            "[[0.0 1.0 0.0 30.0 54000.0 23.0]\n",
            " [1.0 0.0 0.0 37.0 67000.0 32.0]]\n"
          ],
          "name": "stdout"
        }
      ]
    },
    {
      "cell_type": "code",
      "metadata": {
        "colab": {
          "base_uri": "https://localhost:8080/"
        },
        "id": "4hOUdrVztgXs",
        "outputId": "bc9d5380-67b9-40e9-9e2e-fbfce23c18be"
      },
      "source": [
        "print(y_train)"
      ],
      "execution_count": 154,
      "outputs": [
        {
          "output_type": "stream",
          "text": [
            "[0 1 0 0 1 1 0 1]\n"
          ],
          "name": "stdout"
        }
      ]
    },
    {
      "cell_type": "code",
      "metadata": {
        "colab": {
          "base_uri": "https://localhost:8080/"
        },
        "id": "_H4UYzDktkAo",
        "outputId": "ba822e46-2dc7-4c6d-d80c-4c7f0e0a7b7f"
      },
      "source": [
        "print(y_test)"
      ],
      "execution_count": 155,
      "outputs": [
        {
          "output_type": "stream",
          "text": [
            "[0 1]\n"
          ],
          "name": "stdout"
        }
      ]
    },
    {
      "cell_type": "code",
      "metadata": {
        "id": "s2uinRJDuALn"
      },
      "source": [
        "from sklearn.preprocessing import StandardScaler\n",
        "sc = StandardScaler()\n",
        "x_train[:, 4:] = sc.fit_transform(x_train[:, 4:])\n",
        "x_test[:, 4:]= sc.transform(x_test[:, 4:])"
      ],
      "execution_count": 156,
      "outputs": []
    },
    {
      "cell_type": "code",
      "metadata": {
        "colab": {
          "base_uri": "https://localhost:8080/"
        },
        "id": "UA4W5QQUu5Ci",
        "outputId": "4260bab6-7b31-4de5-e961-307ab55e702b"
      },
      "source": [
        "print(x_train)"
      ],
      "execution_count": 157,
      "outputs": [
        {
          "output_type": "stream",
          "text": [
            "[[0.0 0.0 1.0 38.77777777777778 -0.9892435857079551 0.05711768428217229]\n",
            " [0.0 1.0 0.0 40.0 -0.033277307164487784 2.250436760717638]\n",
            " [1.0 0.0 0.0 44.0 0.9468906493167888 -0.3998237899752157]\n",
            " [0.0 0.0 1.0 38.0 -0.11798317994682034 -0.49121208482669415]\n",
            " [0.0 0.0 1.0 27.0 -1.3764704327129038 -0.7653769693811273]\n",
            " [1.0 0.0 0.0 48.0 -0.033277307164487784 0.8796123379454719]\n",
            " [0.0 1.0 0.0 50.0 2.011764478580398 -0.7653769693811273]\n",
            " [1.0 0.0 0.0 35.0 -0.4084033152005319 -0.7653769693811273]]\n"
          ],
          "name": "stdout"
        }
      ]
    }
  ]
}